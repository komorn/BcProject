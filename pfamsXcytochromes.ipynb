{
 "cells": [
  {
   "cell_type": "code",
   "execution_count": 2,
   "metadata": {},
   "outputs": [],
   "source": [
    "import pandas as pd"
   ]
  },
  {
   "cell_type": "code",
   "execution_count": 3,
   "metadata": {},
   "outputs": [
    {
     "name": "stdout",
     "output_type": "stream",
     "text": [
      "(1751, 20)\n",
      "(1726, 1)\n"
     ]
    }
   ],
   "source": [
    "pfams = pd.read_csv(\"pfamsC.csv\") # newly downloaded CYPs because we didn't want to search for \"Cytochrome P450\" but instead for \"PF00067\" which is the typical pfam domain for CYPs\n",
    "cytochromes = pd.read_csv(\"cytochromesDBC.csv\") # my old database created from the search \"Cytochrome P450\"\n",
    "\n",
    "cytochromes = pd.merge(cytochromes, pfams, on=\"Uniprot ID\") \n",
    "\n",
    "print(cytochromes.shape)\n",
    "print(pfams.shape)\n",
    "\n",
    "cytochromes.to_csv('PF00067.csv', index=False)\n",
    "# cytochromes.to_excel('PF00067.xlsx', index=False)"
   ]
  },
  {
   "attachments": {},
   "cell_type": "markdown",
   "metadata": {},
   "source": [
    "Here I just wanted to see how much is deffers when I search for the wrong key word and for the right key word."
   ]
  }
 ],
 "metadata": {
  "kernelspec": {
   "display_name": ".env",
   "language": "python",
   "name": "python3"
  },
  "language_info": {
   "codemirror_mode": {
    "name": "ipython",
    "version": 3
   },
   "file_extension": ".py",
   "mimetype": "text/x-python",
   "name": "python",
   "nbconvert_exporter": "python",
   "pygments_lexer": "ipython3",
   "version": "3.10.9"
  },
  "orig_nbformat": 4,
  "vscode": {
   "interpreter": {
    "hash": "d723a7780c61de9fc3c4a961bbdaf62e00ac76df6f5f1ce0acb9d45878c1823e"
   }
  }
 },
 "nbformat": 4,
 "nbformat_minor": 2
}
