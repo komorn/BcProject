{
 "cells": [
  {
   "cell_type": "code",
   "execution_count": 1,
   "metadata": {},
   "outputs": [],
   "source": [
    "import json\n",
    "import pandas as pd\n",
    "import re"
   ]
  },
  {
   "cell_type": "code",
   "execution_count": 3,
   "metadata": {},
   "outputs": [],
   "source": [
    "with open('uniprot_json.json') as uniprot_json:\n",
    "    uniprot_data = json.load(uniprot_json)\n"
   ]
  },
  {
   "cell_type": "code",
   "execution_count": 4,
   "metadata": {},
   "outputs": [
    {
     "name": "stdout",
     "output_type": "stream",
     "text": [
      "dict_keys(['results'])\n"
     ]
    }
   ],
   "source": [
    "print(uniprot_data.keys())"
   ]
  },
  {
   "attachments": {},
   "cell_type": "markdown",
   "metadata": {},
   "source": [
    "There is only one key and that is results"
   ]
  },
  {
   "cell_type": "code",
   "execution_count": 5,
   "metadata": {},
   "outputs": [],
   "source": [
    "protein_access = uniprot_data['results']"
   ]
  },
  {
   "cell_type": "code",
   "execution_count": 6,
   "metadata": {},
   "outputs": [
    {
     "name": "stdout",
     "output_type": "stream",
     "text": [
      "{'entryType': 'UniProtKB reviewed (Swiss-Prot)', 'primaryAccession': 'A0A075TMP8', 'uniProtkbId': 'PATI_PENEN', 'entryAudit': {'firstPublicDate': '2018-12-05', 'lastAnnotationUpdateDate': '2022-12-14', 'lastSequenceUpdateDate': '2014-10-29', 'entryVersion': 31, 'sequenceVersion': 1}, 'annotationScore': 5.0, 'organism': {'scientificName': 'Penicillium expansum', 'commonName': 'Blue mold rot fungus', 'taxonId': 27334, 'lineage': ['Eukaryota', 'Fungi', 'Dikarya', 'Ascomycota', 'Pezizomycotina', 'Eurotiomycetes', 'Eurotiomycetidae', 'Eurotiales', 'Aspergillaceae', 'Penicillium']}, 'proteinExistence': '1: Evidence at protein level', 'proteinDescription': {'recommendedName': {'fullName': {'evidences': [{'evidenceCode': 'ECO:0000303', 'source': 'PubMed', 'id': '25120234'}], 'value': 'Cytochrome P450 monooxygenase patI'}, 'ecNumbers': [{'evidences': [{'evidenceCode': 'ECO:0000269', 'source': 'PubMed', 'id': '30680886'}], 'value': '1.-.-.-'}]}, 'alternativeNames': [{'fullName': {'evidences': [{'evidenceCode': 'ECO:0000303', 'source': 'PubMed', 'id': '25120234'}], 'value': 'Patulin biosynthesis cluster protein I'}}, {'fullName': {'evidences': [{'evidenceCode': 'ECO:0000303', 'source': 'PubMed', 'id': '25120234'}], 'value': 'm-hydroxybenzyl alcohol hydroxylase'}}]}, 'genes': [{'geneName': {'evidences': [{'evidenceCode': 'ECO:0000303', 'source': 'PubMed', 'id': '25120234'}], 'value': 'patI'}, 'orfNames': [{'value': 'PEX2_082860'}]}], 'comments': [{'texts': [{'evidences': [{'evidenceCode': 'ECO:0000269', 'source': 'PubMed', 'id': '25625822'}, {'evidenceCode': 'ECO:0000269', 'source': 'PubMed', 'id': '30100914'}, {'evidenceCode': 'ECO:0000269', 'source': 'PubMed', 'id': '30680886'}, {'evidenceCode': 'ECO:0000305', 'source': 'PubMed', 'id': '30680886'}], 'value': 'Cytochrome P450 monooxygenase; part of the gene cluster that mediates the biosynthesis of patulin, an acetate-derived tetraketide mycotoxin produced by several fungal species that shows antimicrobial properties against several bacteria (PubMed:30100914, PubMed:25625822, PubMed:30680886). PatI catalyzes the conversion of m-hydroxybenzyl alcohol into gentisyl alcohol (PubMed:30680886). The pathway begins with the synthesis of 6-methylsalicylic acid by the polyketide synthase (PKS) patK via condensation of acetate and malonate units. The 6-methylsalicylic acid decarboxylase patG then catalyzes the decarboxylation of 6-methylsalicylic acid to yield m-cresol (also known as 3-methylphenol). These first reactions occur in the cytosol. The intermediate m-cresol is then transported into the endoplasmic reticulum where the cytochrome P450 monooxygenase patH converts it to m-hydroxybenzyl alcohol, which is further converted to gentisyl alcohol by the cytochrome P450 monooxygenase patI. The oxidoreductases patJ and patO further convert gentisyl alcohol to isoepoxydon in the vacuole. PatN catalyzes then the transformation of isoepoxydon into phyllostine. The cluster protein patF is responsible for the conversion from phyllostine to neopatulin whereas the alcohol dehydrogenase patD converts neopatulin to E-ascladiol. The steps between isoepoxydon and E-ascladiol occur in the cytosol, and E-ascladiol is probably secreted to the extracellular space by one of the cluster-specific transporters patC or patM. Finally, the secreted patulin synthase patE catalyzes the conversion of E-ascladiol to patulin (PubMed:30680886) (Probable)'}], 'commentType': 'FUNCTION'}, {'commentType': 'CATALYTIC ACTIVITY', 'reaction': {'name': '3-hydroxybenzyl alcohol + O2 + reduced [NADPH--hemoprotein reductase] = gentisyl alcohol + H(+) + H2O + oxidized [NADPH--hemoprotein reductase]', 'reactionCrossReferences': [{'database': 'Rhea', 'id': 'RHEA:62212'}, {'database': 'Rhea', 'id': 'RHEA-COMP:11964'}, {'database': 'Rhea', 'id': 'RHEA-COMP:11965'}, {'database': 'ChEBI', 'id': 'CHEBI:5325'}, {'database': 'ChEBI', 'id': 'CHEBI:15377'}, {'database': 'ChEBI', 'id': 'CHEBI:15378'}, {'database': 'ChEBI', 'id': 'CHEBI:15379'}, {'database': 'ChEBI', 'id': 'CHEBI:17069'}, {'database': 'ChEBI', 'id': 'CHEBI:57618'}, {'database': 'ChEBI', 'id': 'CHEBI:58210'}], 'evidences': [{'evidenceCode': 'ECO:0000269', 'source': 'PubMed', 'id': '30680886'}]}, 'physiologicalReactions': [{'directionType': 'left-to-right', 'reactionCrossReference': {'database': 'Rhea', 'id': 'RHEA:62213'}, 'evidences': [{'evidenceCode': 'ECO:0000269', 'source': 'PubMed', 'id': '30680886'}]}]}, {'commentType': 'COFACTOR', 'cofactors': [{'name': 'heme', 'evidences': [{'evidenceCode': 'ECO:0000250', 'source': 'UniProtKB', 'id': 'P04798'}], 'cofactorCrossReference': {'database': 'ChEBI', 'id': 'CHEBI:30413'}}]}, {'texts': [{'evidences': [{'evidenceCode': 'ECO:0000269', 'source': 'PubMed', 'id': '30680886'}], 'value': 'Mycotoxin biosynthesis; patulin biosynthesis'}], 'commentType': 'PATHWAY'}, {'commentType': 'SUBCELLULAR LOCATION', 'subcellularLocations': [{'location': {'evidences': [{'evidenceCode': 'ECO:0000269', 'source': 'PubMed', 'id': '30680886'}], 'value': 'Endoplasmic reticulum membrane', 'id': 'SL-0097'}, 'topology': {'evidences': [{'evidenceCode': 'ECO:0000269', 'source': 'PubMed', 'id': '30680886'}], 'value': 'Single-pass membrane protein', 'id': 'SL-9904'}}]}, {'texts': [{'evidences': [{'evidenceCode': 'ECO:0000269', 'source': 'PubMed', 'id': '25120234'}, {'evidenceCode': 'ECO:0000269', 'source': 'PubMed', 'id': '25625822'}, {'evidenceCode': 'ECO:0000269', 'source': 'PubMed', 'id': '27528575'}, {'evidenceCode': 'ECO:0000269', 'source': 'PubMed', 'id': '30100914'}, {'evidenceCode': 'ECO:0000269', 'source': 'PubMed', 'id': '30680886'}], 'value': 'Expression is correlated with the production of patulin (PubMed:25120234). Expression is positively regulated by the secondary metabolism regulator laeA (PubMed:27528575, PubMed:30100914). Expression is strongly decreased with increased sucrose concentrations. This decrease is lost in the presence of malic acid (PubMed:30100914). Expression is increased with pH changes from 2.5 to 3.5 in the presence of a limiting concentration of sucrose, 50 mM (PubMed:30100914). Natural phenols present in apple fruits such as chlorogenic acid or the flavonoid epicatechin modulate patulin biosynthesis. They increase expression in the absence of sucrose, have little impact in the presence of 15 mM sucrose, and decrease expression in 175 mM sucrose (PubMed:30100914). Expression is positively regulated by the patulin cluster-specific transcription factor patL (PubMed:25625822). Finally, expression is also positively regulated by the velvet family proteins transcription regulators veA, velB, velC, but not vosA (PubMed:30680886)'}], 'commentType': 'INDUCTION'}, {'texts': [{'evidences': [{'evidenceCode': 'ECO:0000269', 'source': 'PubMed', 'id': '30680886'}], 'value': 'Completely abolishes the production of patulin and shows significant slower colony expansion'}], 'commentType': 'DISRUPTION PHENOTYPE'}, {'texts': [{'evidences': [{'evidenceCode': 'ECO:0000269', 'source': 'PubMed', 'id': '15082620'}, {'evidenceCode': 'ECO:0000269', 'source': 'PubMed', 'id': '22222931'}, {'evidenceCode': 'ECO:0000269', 'source': 'PubMed', 'id': '26619846'}], 'value': 'Patulin was originally used as an antibiotic and specifically trialed to be used against the common cold, but it is no longer used for that purpose since it has been shown to induce immunological, neurological and gastrointestinal effects (PubMed:15082620). Genotoxic effects of patulin with dose-dependent increase in DNA strand breaks in brain, liver and kidneys have been detected in mice (PubMed:22222931). However, more recently, it has been proposed that patulin might also have anti-tumor properties (PubMed:26619846)'}], 'commentType': 'BIOTECHNOLOGY'}, {'texts': [{'evidences': [{'evidenceCode': 'ECO:0000305'}], 'value': 'Belongs to the cytochrome P450 family'}], 'commentType': 'SIMILARITY'}], 'features': [{'type': 'Chain', 'location': {'start': {'value': 1, 'modifier': 'EXACT'}, 'end': {'value': 526, 'modifier': 'EXACT'}}, 'description': 'Cytochrome P450 monooxygenase patI', 'featureId': 'PRO_0000445922'}, {'type': 'Topological domain', 'location': {'start': {'value': 1, 'modifier': 'EXACT'}, 'end': {'value': 6, 'modifier': 'EXACT'}}, 'description': 'Cytoplasmic', 'evidences': [{'evidenceCode': 'ECO:0000305'}]}, {'type': 'Transmembrane', 'location': {'start': {'value': 7, 'modifier': 'EXACT'}, 'end': {'value': 29, 'modifier': 'EXACT'}}, 'description': 'Helical', 'evidences': [{'evidenceCode': 'ECO:0000255'}]}, {'type': 'Topological domain', 'location': {'start': {'value': 30, 'modifier': 'EXACT'}, 'end': {'value': 526, 'modifier': 'EXACT'}}, 'description': 'Lumenal', 'evidences': [{'evidenceCode': 'ECO:0000305'}]}, {'type': 'Binding site', 'location': {'start': {'value': 446, 'modifier': 'EXACT'}, 'end': {'value': 446, 'modifier': 'EXACT'}}, 'description': 'axial binding residue', 'featureCrossReferences': [{'database': 'ChEBI', 'id': 'CHEBI:30413'}, {'database': 'ChEBI', 'id': 'CHEBI:18248'}], 'evidences': [{'evidenceCode': 'ECO:0000250', 'source': 'UniProtKB', 'id': 'P04798'}], 'ligand': {'name': 'heme', 'id': 'ChEBI:CHEBI:30413'}, 'ligandPart': {'name': 'Fe', 'id': 'ChEBI:CHEBI:18248'}}, {'type': 'Glycosylation', 'location': {'start': {'value': 81, 'modifier': 'EXACT'}, 'end': {'value': 81, 'modifier': 'EXACT'}}, 'description': 'N-linked (GlcNAc...) asparagine', 'evidences': [{'evidenceCode': 'ECO:0000255', 'source': 'PROSITE-ProRule', 'id': 'PRU00498'}], 'featureId': ''}], 'keywords': [{'id': 'KW-0256', 'category': 'Cellular component', 'name': 'Endoplasmic reticulum'}, {'id': 'KW-0325', 'category': 'PTM', 'name': 'Glycoprotein'}, {'id': 'KW-0408', 'category': 'Ligand', 'name': 'Iron'}, {'id': 'KW-0472', 'category': 'Cellular component', 'name': 'Membrane'}, {'id': 'KW-0479', 'category': 'Ligand', 'name': 'Metal-binding'}, {'id': 'KW-0503', 'category': 'Molecular function', 'name': 'Monooxygenase'}, {'id': 'KW-0560', 'category': 'Molecular function', 'name': 'Oxidoreductase'}, {'id': 'KW-1185', 'category': 'Technical term', 'name': 'Reference proteome'}, {'id': 'KW-0812', 'category': 'Domain', 'name': 'Transmembrane'}, {'id': 'KW-1133', 'category': 'Domain', 'name': 'Transmembrane helix'}], 'references': [{'citation': {'id': '25120234', 'citationType': 'journal article', 'authors': ['Tannous J.', 'El Khoury R.', 'Snini S.P.', 'Lippi Y.', 'El Khoury A.', 'Atoui A.', 'Lteif R.', 'Oswald I.P.', 'Puel O.'], 'citationCrossReferences': [{'database': 'PubMed', 'id': '25120234'}, {'database': 'DOI', 'id': '10.1016/j.ijfoodmicro.2014.07.028'}], 'title': 'Sequencing, physical organization and kinetic expression of the patulin biosynthetic gene cluster from Penicillium expansum.', 'publicationDate': '2014', 'journal': 'Int. J. Food Microbiol.', 'firstPage': '51', 'lastPage': '60', 'volume': '189C'}, 'referencePositions': ['NUCLEOTIDE SEQUENCE [GENOMIC DNA]', 'IDENTIFICATION', 'INDUCTION'], 'referenceComments': [{'value': 'NRRL 35695', 'type': 'STRAIN'}]}, {'citation': {'id': '25338147', 'citationType': 'journal article', 'authors': ['Ballester A.R.', 'Marcet-Houben M.', 'Levin E.', 'Sela N.', 'Selma-Lazaro C.', 'Carmona L.', 'Wisniewski M.', 'Droby S.', 'Gonzalez-Candelas L.', 'Gabaldon T.'], 'citationCrossReferences': [{'database': 'PubMed', 'id': '25338147'}, {'database': 'DOI', 'id': '10.1094/mpmi-09-14-0261-fi'}], 'title': 'Genome, transcriptome, and functional analyses of Penicillium expansum provide new insights into secondary metabolism and pathogenicity.', 'publicationDate': '2015', 'journal': 'Mol. Plant Microbe Interact.', 'firstPage': '232', 'lastPage': '248', 'volume': '28'}, 'referencePositions': ['NUCLEOTIDE SEQUENCE [LARGE SCALE GENOMIC DNA]'], 'referenceComments': [{'value': 'MD-8', 'type': 'STRAIN'}]}, {'citation': {'id': '15082620', 'citationType': 'journal article', 'authoringGroup': ['Patulin Clinical Trials Committee, Medical Research Council'], 'citationCrossReferences': [{'database': 'PubMed', 'id': '15082620'}, {'database': 'DOI', 'id': '10.1093/ije/dyh028'}], 'title': 'Clinical trial of patulin in the common cold. 1944.', 'publicationDate': '2004', 'journal': 'Int. J. Epidemiol.', 'firstPage': '243', 'lastPage': '246', 'volume': '33'}, 'referencePositions': ['BIOTECHNOLOGY']}, {'citation': {'id': '22222931', 'citationType': 'journal article', 'authors': ['de Melo F.T.', 'de Oliveira I.M.', 'Greggio S.', 'Dacosta J.C.', 'Guecheva T.N.', 'Saffi J.', 'Henriques J.A.', 'Rosa R.M.'], 'citationCrossReferences': [{'database': 'PubMed', 'id': '22222931'}, {'database': 'DOI', 'id': '10.1016/j.fct.2011.12.022'}], 'title': 'DNA damage in organs of mice treated acutely with patulin, a known mycotoxin.', 'publicationDate': '2012', 'journal': 'Food Chem. Toxicol.', 'firstPage': '3548', 'lastPage': '3555', 'volume': '50'}, 'referencePositions': ['BIOTECHNOLOGY']}, {'citation': {'id': '26619846', 'citationType': 'journal article', 'authors': ['Boussabbeh M.', 'Ben Salem I.', 'Rjiba-Touati K.', 'Bouyahya C.', 'Neffati F.', 'Najjar M.F.', 'Bacha H.', 'Abid-Essefi S.'], 'citationCrossReferences': [{'database': 'PubMed', 'id': '26619846'}, {'database': 'DOI', 'id': '10.1007/s13277-015-4474-z'}], 'title': 'The potential effect of patulin on mice bearing melanoma cells: an anti-tumour or carcinogenic effect?', 'publicationDate': '2016', 'journal': 'Tumor Biol.', 'firstPage': '6285', 'lastPage': '6295', 'volume': '37'}, 'referencePositions': ['BIOTECHNOLOGY']}, {'citation': {'id': '27528575', 'citationType': 'journal article', 'authors': ['Kumar D.', 'Barad S.', 'Chen Y.', 'Luo X.', 'Tannous J.', 'Dubey A.', 'Glam Matana N.', 'Tian S.', 'Li B.', 'Keller N.', 'Prusky D.'], 'citationCrossReferences': [{'database': 'PubMed', 'id': '27528575'}, {'database': 'DOI', 'id': '10.1111/mpp.12469'}], 'title': 'LaeA regulation of secondary metabolism modulates virulence in Penicillium expansum and is mediated by sucrose.', 'publicationDate': '2017', 'journal': 'Mol. Plant Pathol.', 'firstPage': '1150', 'lastPage': '1163', 'volume': '18'}, 'referencePositions': ['INDUCTION']}, {'citation': {'id': '30100914', 'citationType': 'journal article', 'authors': ['Kumar D.', 'Tannous J.', 'Sionov E.', 'Keller N.', 'Prusky D.'], 'citationCrossReferences': [{'database': 'PubMed', 'id': '30100914'}, {'database': 'DOI', 'id': '10.3389/fpls.2018.01094'}], 'title': 'Apple intrinsic factors modulating the global regulator, LaeA, the patulin gene cluster and patulin accumulation during fruit colonization by Penicillium expansum.', 'publicationDate': '2018', 'journal': 'Front. Plant Sci.', 'firstPage': '1094', 'lastPage': '1094', 'volume': '9'}, 'referencePositions': ['FUNCTION', 'INDUCTION']}, {'citation': {'id': '25625822', 'citationType': 'journal article', 'authors': ['Li B.', 'Zong Y.', 'Du Z.', 'Chen Y.', 'Zhang Z.', 'Qin G.', 'Zhao W.', 'Tian S.'], 'citationCrossReferences': [{'database': 'PubMed', 'id': '25625822'}, {'database': 'DOI', 'id': '10.1094/mpmi-12-14-0398-fi'}], 'title': 'Genomic characterization reveals insights into patulin biosynthesis and pathogenicity in Penicillium species.', 'publicationDate': '2015', 'journal': 'Mol. Plant Microbe Interact.', 'firstPage': '635', 'lastPage': '647', 'volume': '28'}, 'referencePositions': ['FUNCTION', 'INDUCTION']}, {'citation': {'id': '30680886', 'citationType': 'journal article', 'authors': ['Li B.', 'Chen Y.', 'Zong Y.', 'Shang Y.', 'Zhang Z.', 'Xu X.', 'Wang X.', 'Long M.', 'Tian S.'], 'citationCrossReferences': [{'database': 'PubMed', 'id': '30680886'}, {'database': 'DOI', 'id': '10.1111/1462-2920.14542'}], 'title': 'Dissection of patulin biosynthesis, spatial control and regulation mechanism in Penicillium expansum.', 'publicationDate': '2019', 'journal': 'Environ. Microbiol.', 'firstPage': '1124', 'lastPage': '1139', 'volume': '21'}, 'referencePositions': ['FUNCTION', 'DISRUPTION PHENOTYPE', 'SUBCELLULAR LOCATION', 'CATALYTIC ACTIVITY', 'INDUCTION', 'PATHWAY']}], 'uniProtKBCrossReferences': [{'database': 'EMBL', 'id': 'KF899892', 'properties': [{'key': 'ProteinId', 'value': 'AIG62145.1'}, {'key': 'Status', 'value': '-'}, {'key': 'MoleculeType', 'value': 'Genomic_DNA'}]}, {'database': 'EMBL', 'id': 'JQFZ01000262', 'properties': [{'key': 'ProteinId', 'value': 'KGO52639.1'}, {'key': 'Status', 'value': '-'}, {'key': 'MoleculeType', 'value': 'Genomic_DNA'}]}, {'database': 'RefSeq', 'id': 'XP_016595369.1', 'properties': [{'key': 'NucleotideSequenceId', 'value': 'XM_016745556.1'}]}, {'database': 'AlphaFoldDB', 'id': 'A0A075TMP8', 'properties': [{'key': 'Description', 'value': '-'}]}, {'database': 'SMR', 'id': 'A0A075TMP8', 'properties': [{'key': 'Description', 'value': '-'}]}, {'database': 'GeneID', 'id': '27680976', 'properties': [{'key': 'Description', 'value': '-'}]}, {'database': 'HOGENOM', 'id': 'CLU_001570_2_1_1', 'properties': [{'key': 'Description', 'value': '-'}]}, {'database': 'OrthoDB', 'id': '702827at2759', 'properties': [{'key': 'Description', 'value': '-'}]}, {'database': 'PhylomeDB', 'id': 'A0A075TMP8', 'properties': [{'key': 'Description', 'value': '-'}]}, {'database': 'UniPathway', 'id': 'UPA00918', 'properties': [{'key': 'RectionId', 'value': '-'}]}, {'database': 'Proteomes', 'id': 'UP000030143', 'properties': [{'key': 'Component', 'value': 'Unassembled WGS sequence'}]}, {'database': 'GO', 'id': 'GO:0005783', 'properties': [{'key': 'GoTerm', 'value': 'C:endoplasmic reticulum'}, {'key': 'GoEvidenceType', 'value': 'IDA:GO_Central'}], 'evidences': [{'evidenceCode': 'ECO:0000314', 'source': 'PubMed', 'id': '30680886'}]}, {'database': 'GO', 'id': 'GO:0005789', 'properties': [{'key': 'GoTerm', 'value': 'C:endoplasmic reticulum membrane'}, {'key': 'GoEvidenceType', 'value': 'IEA:UniProtKB-SubCell'}]}, {'database': 'GO', 'id': 'GO:0020037', 'properties': [{'key': 'GoTerm', 'value': 'F:heme binding'}, {'key': 'GoEvidenceType', 'value': 'IEA:InterPro'}]}, {'database': 'GO', 'id': 'GO:0005506', 'properties': [{'key': 'GoTerm', 'value': 'F:iron ion binding'}, {'key': 'GoEvidenceType', 'value': 'IEA:InterPro'}]}, {'database': 'GO', 'id': 'GO:0004497', 'properties': [{'key': 'GoTerm', 'value': 'F:monooxygenase activity'}, {'key': 'GoEvidenceType', 'value': 'IDA:GO_Central'}], 'evidences': [{'evidenceCode': 'ECO:0000314', 'source': 'PubMed', 'id': '30680886'}]}, {'database': 'GO', 'id': 'GO:0016705', 'properties': [{'key': 'GoTerm', 'value': 'F:oxidoreductase activity, acting on paired donors, with incorporation or reduction of molecular oxygen'}, {'key': 'GoEvidenceType', 'value': 'IEA:InterPro'}]}, {'database': 'GO', 'id': 'GO:0140723', 'properties': [{'key': 'GoTerm', 'value': 'P:patulin biosynthetic process'}, {'key': 'GoEvidenceType', 'value': 'IDA:GO_Central'}], 'evidences': [{'evidenceCode': 'ECO:0000314', 'source': 'PubMed', 'id': '30680886'}]}, {'database': 'Gene3D', 'id': '1.10.630.10', 'properties': [{'key': 'EntryName', 'value': '-'}, {'key': 'MatchStatus', 'value': '1'}]}, {'database': 'InterPro', 'id': 'IPR001128', 'properties': [{'key': 'EntryName', 'value': 'Cyt_P450'}]}, {'database': 'InterPro', 'id': 'IPR002401', 'properties': [{'key': 'EntryName', 'value': 'Cyt_P450_E_grp-I'}]}, {'database': 'InterPro', 'id': 'IPR036396', 'properties': [{'key': 'EntryName', 'value': 'Cyt_P450_sf'}]}, {'database': 'Pfam', 'id': 'PF00067', 'properties': [{'key': 'EntryName', 'value': 'p450'}, {'key': 'MatchStatus', 'value': '1'}]}, {'database': 'PRINTS', 'id': 'PR00463', 'properties': [{'key': 'EntryName', 'value': 'EP450I'}]}, {'database': 'SUPFAM', 'id': 'SSF48264', 'properties': [{'key': 'EntryName', 'value': 'Cytochrome P450'}, {'key': 'MatchStatus', 'value': '1'}]}], 'sequence': {'value': 'MDILQLAPTHLLAILLSSTSALFLITYLLRAGHRPSDLPNGPPTVPLFGNELQVPKSDAHFQFSRWAKEYGGFFTLKRYNNTTIVISDQKLIKTLLDKKSNIYSHRPASLVSHLITQSDHLLVMQYGERWRMLRKTIHQYFMEPRCERDHWKVQEAEAKQMLHDYLTMPEDHMLHPKRYSNSITNSLVFGIRTKTVHDEYMKKLFYLMDKWSLVQELGATPPVDSFALLRYVPQWMLGNWRNRAVEVGDLMQSLYQTVLDQVKERRQRGIQRDSFMDRVLDTLKQTPLSENELRFLGGVLMEGGSDTSSSLILTIIQAMTKYPEVQAKAHAQIDSIIGHNRSPAWSDWSKLPYINMIIKESHRWRPVSPLGVPHAVAEDDHIDGKLIPQGSSIVLNVWGMHHDSDRWQEPEHFQPERFADFPALASGYAGSERRDHLGYGAGRRICPGIHLAERNLIIGIAKLLWAFEFLEPLGSDSDISAHSGASKGFLHCPKDYGCVIRLRSPEKRETIMREFAEAQEVFARFD', 'length': 526, 'molWeight': 60437, 'crc64': '41F2E6AD31CA4B57', 'md5': '42BD0DD43B65AC8FBB42BF22B21E4D5E'}, 'extraAttributes': {'countByCommentType': {'FUNCTION': 1, 'CATALYTIC ACTIVITY': 1, 'COFACTOR': 1, 'PATHWAY': 1, 'SUBCELLULAR LOCATION': 1, 'INDUCTION': 1, 'DISRUPTION PHENOTYPE': 1, 'BIOTECHNOLOGY': 1, 'SIMILARITY': 1}, 'countByFeatureType': {'Chain': 1, 'Topological domain': 2, 'Transmembrane': 1, 'Binding site': 1, 'Glycosylation': 1}, 'uniParcId': 'UPI0004DCA2C5'}}\n"
     ]
    }
   ],
   "source": [
    "print(protein_access[0])"
   ]
  },
  {
   "cell_type": "code",
   "execution_count": 6,
   "metadata": {},
   "outputs": [
    {
     "data": {
      "text/plain": [
       "dict_keys(['entryType', 'primaryAccession', 'uniProtkbId', 'entryAudit', 'annotationScore', 'organism', 'proteinExistence', 'proteinDescription', 'genes', 'comments', 'features', 'keywords', 'references', 'uniProtKBCrossReferences', 'sequence', 'extraAttributes'])"
      ]
     },
     "execution_count": 6,
     "metadata": {},
     "output_type": "execute_result"
    }
   ],
   "source": [
    "protein_access[0].keys()"
   ]
  },
  {
   "attachments": {},
   "cell_type": "markdown",
   "metadata": {},
   "source": [
    "chcem for cyklus ktory mi prejde cez vsetky proteiny kde potom zoberiem key primaryAccession lebo tam mam ID a dalej zoberiem key 'coments' a tam mam tie udaje o reakciach"
   ]
  },
  {
   "cell_type": "code",
   "execution_count": 7,
   "metadata": {},
   "outputs": [
    {
     "name": "stdout",
     "output_type": "stream",
     "text": [
      "1726\n"
     ]
    }
   ],
   "source": [
    "print(len(protein_access))"
   ]
  },
  {
   "attachments": {},
   "cell_type": "markdown",
   "metadata": {},
   "source": [
    "We have 1726 reviewed entries in this json file"
   ]
  },
  {
   "cell_type": "code",
   "execution_count": 8,
   "metadata": {},
   "outputs": [
    {
     "ename": "ModuleNotFoundError",
     "evalue": "No module named 'openpyxl'",
     "output_type": "error",
     "traceback": [
      "\u001b[0;31m---------------------------------------------------------------------------\u001b[0m",
      "\u001b[0;31mModuleNotFoundError\u001b[0m                       Traceback (most recent call last)",
      "Cell \u001b[0;32mIn[8], line 75\u001b[0m\n\u001b[1;32m     72\u001b[0m df \u001b[39m=\u001b[39m pd\u001b[39m.\u001b[39mDataFrame(data)\n\u001b[1;32m     74\u001b[0m df\u001b[39m.\u001b[39mto_csv(\u001b[39m'\u001b[39m\u001b[39mreactionsfromjson.csv\u001b[39m\u001b[39m'\u001b[39m, index\u001b[39m=\u001b[39m\u001b[39mFalse\u001b[39;00m)\n\u001b[0;32m---> 75\u001b[0m df\u001b[39m.\u001b[39;49mto_excel(\u001b[39m'\u001b[39;49m\u001b[39mreactionFromJSONexcel.xlsx\u001b[39;49m\u001b[39m'\u001b[39;49m, index\u001b[39m=\u001b[39;49m\u001b[39mFalse\u001b[39;49;00m)\n",
      "File \u001b[0;32m~/.pyenv/versions/3.10.9/lib/python3.10/site-packages/pandas/util/_decorators.py:211\u001b[0m, in \u001b[0;36mdeprecate_kwarg.<locals>._deprecate_kwarg.<locals>.wrapper\u001b[0;34m(*args, **kwargs)\u001b[0m\n\u001b[1;32m    209\u001b[0m     \u001b[39melse\u001b[39;00m:\n\u001b[1;32m    210\u001b[0m         kwargs[new_arg_name] \u001b[39m=\u001b[39m new_arg_value\n\u001b[0;32m--> 211\u001b[0m \u001b[39mreturn\u001b[39;00m func(\u001b[39m*\u001b[39;49margs, \u001b[39m*\u001b[39;49m\u001b[39m*\u001b[39;49mkwargs)\n",
      "File \u001b[0;32m~/.pyenv/versions/3.10.9/lib/python3.10/site-packages/pandas/util/_decorators.py:211\u001b[0m, in \u001b[0;36mdeprecate_kwarg.<locals>._deprecate_kwarg.<locals>.wrapper\u001b[0;34m(*args, **kwargs)\u001b[0m\n\u001b[1;32m    209\u001b[0m     \u001b[39melse\u001b[39;00m:\n\u001b[1;32m    210\u001b[0m         kwargs[new_arg_name] \u001b[39m=\u001b[39m new_arg_value\n\u001b[0;32m--> 211\u001b[0m \u001b[39mreturn\u001b[39;00m func(\u001b[39m*\u001b[39;49margs, \u001b[39m*\u001b[39;49m\u001b[39m*\u001b[39;49mkwargs)\n",
      "File \u001b[0;32m~/.pyenv/versions/3.10.9/lib/python3.10/site-packages/pandas/core/generic.py:2374\u001b[0m, in \u001b[0;36mNDFrame.to_excel\u001b[0;34m(self, excel_writer, sheet_name, na_rep, float_format, columns, header, index, index_label, startrow, startcol, engine, merge_cells, encoding, inf_rep, verbose, freeze_panes, storage_options)\u001b[0m\n\u001b[1;32m   2361\u001b[0m \u001b[39mfrom\u001b[39;00m \u001b[39mpandas\u001b[39;00m\u001b[39m.\u001b[39;00m\u001b[39mio\u001b[39;00m\u001b[39m.\u001b[39;00m\u001b[39mformats\u001b[39;00m\u001b[39m.\u001b[39;00m\u001b[39mexcel\u001b[39;00m \u001b[39mimport\u001b[39;00m ExcelFormatter\n\u001b[1;32m   2363\u001b[0m formatter \u001b[39m=\u001b[39m ExcelFormatter(\n\u001b[1;32m   2364\u001b[0m     df,\n\u001b[1;32m   2365\u001b[0m     na_rep\u001b[39m=\u001b[39mna_rep,\n\u001b[0;32m   (...)\u001b[0m\n\u001b[1;32m   2372\u001b[0m     inf_rep\u001b[39m=\u001b[39minf_rep,\n\u001b[1;32m   2373\u001b[0m )\n\u001b[0;32m-> 2374\u001b[0m formatter\u001b[39m.\u001b[39;49mwrite(\n\u001b[1;32m   2375\u001b[0m     excel_writer,\n\u001b[1;32m   2376\u001b[0m     sheet_name\u001b[39m=\u001b[39;49msheet_name,\n\u001b[1;32m   2377\u001b[0m     startrow\u001b[39m=\u001b[39;49mstartrow,\n\u001b[1;32m   2378\u001b[0m     startcol\u001b[39m=\u001b[39;49mstartcol,\n\u001b[1;32m   2379\u001b[0m     freeze_panes\u001b[39m=\u001b[39;49mfreeze_panes,\n\u001b[1;32m   2380\u001b[0m     engine\u001b[39m=\u001b[39;49mengine,\n\u001b[1;32m   2381\u001b[0m     storage_options\u001b[39m=\u001b[39;49mstorage_options,\n\u001b[1;32m   2382\u001b[0m )\n",
      "File \u001b[0;32m~/.pyenv/versions/3.10.9/lib/python3.10/site-packages/pandas/io/formats/excel.py:944\u001b[0m, in \u001b[0;36mExcelFormatter.write\u001b[0;34m(self, writer, sheet_name, startrow, startcol, freeze_panes, engine, storage_options)\u001b[0m\n\u001b[1;32m    940\u001b[0m     need_save \u001b[39m=\u001b[39m \u001b[39mFalse\u001b[39;00m\n\u001b[1;32m    941\u001b[0m \u001b[39melse\u001b[39;00m:\n\u001b[1;32m    942\u001b[0m     \u001b[39m# error: Cannot instantiate abstract class 'ExcelWriter' with abstract\u001b[39;00m\n\u001b[1;32m    943\u001b[0m     \u001b[39m# attributes 'engine', 'save', 'supported_extensions' and 'write_cells'\u001b[39;00m\n\u001b[0;32m--> 944\u001b[0m     writer \u001b[39m=\u001b[39m ExcelWriter(  \u001b[39m# type: ignore[abstract]\u001b[39;49;00m\n\u001b[1;32m    945\u001b[0m         writer, engine\u001b[39m=\u001b[39;49mengine, storage_options\u001b[39m=\u001b[39;49mstorage_options\n\u001b[1;32m    946\u001b[0m     )\n\u001b[1;32m    947\u001b[0m     need_save \u001b[39m=\u001b[39m \u001b[39mTrue\u001b[39;00m\n\u001b[1;32m    949\u001b[0m \u001b[39mtry\u001b[39;00m:\n",
      "File \u001b[0;32m~/.pyenv/versions/3.10.9/lib/python3.10/site-packages/pandas/io/excel/_openpyxl.py:56\u001b[0m, in \u001b[0;36mOpenpyxlWriter.__init__\u001b[0;34m(self, path, engine, date_format, datetime_format, mode, storage_options, if_sheet_exists, engine_kwargs, **kwargs)\u001b[0m\n\u001b[1;32m     43\u001b[0m \u001b[39mdef\u001b[39;00m \u001b[39m__init__\u001b[39m(\n\u001b[1;32m     44\u001b[0m     \u001b[39mself\u001b[39m,\n\u001b[1;32m     45\u001b[0m     path: FilePath \u001b[39m|\u001b[39m WriteExcelBuffer \u001b[39m|\u001b[39m ExcelWriter,\n\u001b[0;32m   (...)\u001b[0m\n\u001b[1;32m     54\u001b[0m ) \u001b[39m-\u001b[39m\u001b[39m>\u001b[39m \u001b[39mNone\u001b[39;00m:\n\u001b[1;32m     55\u001b[0m     \u001b[39m# Use the openpyxl module as the Excel writer.\u001b[39;00m\n\u001b[0;32m---> 56\u001b[0m     \u001b[39mfrom\u001b[39;00m \u001b[39mopenpyxl\u001b[39;00m\u001b[39m.\u001b[39;00m\u001b[39mworkbook\u001b[39;00m \u001b[39mimport\u001b[39;00m Workbook\n\u001b[1;32m     58\u001b[0m     engine_kwargs \u001b[39m=\u001b[39m combine_kwargs(engine_kwargs, kwargs)\n\u001b[1;32m     60\u001b[0m     \u001b[39msuper\u001b[39m()\u001b[39m.\u001b[39m\u001b[39m__init__\u001b[39m(\n\u001b[1;32m     61\u001b[0m         path,\n\u001b[1;32m     62\u001b[0m         mode\u001b[39m=\u001b[39mmode,\n\u001b[0;32m   (...)\u001b[0m\n\u001b[1;32m     65\u001b[0m         engine_kwargs\u001b[39m=\u001b[39mengine_kwargs,\n\u001b[1;32m     66\u001b[0m     )\n",
      "\u001b[0;31mModuleNotFoundError\u001b[0m: No module named 'openpyxl'"
     ]
    }
   ],
   "source": [
    "data = []\n",
    "\n",
    "for i in range(len(protein_access)):\n",
    "    id = protein_access[i]['primaryAccession']\n",
    "    comments = protein_access[i]['comments']\n",
    "    reaction_found = False\n",
    "\n",
    "    for j in range(len(comments)):\n",
    "        if comments[j]['commentType'] == \"CATALYTIC ACTIVITY\":\n",
    "            reaction = comments[j]['reaction']['name']\n",
    "            reactionSplit = reaction.split(' = ')\n",
    "            substrates = reactionSplit[0].strip()\n",
    "            products = reactionSplit[1].strip()\n",
    "            \n",
    "            substratesSplit = substrates.split(' + ')\n",
    "            productsSplit = products.split(' + ')\n",
    "            participants = substratesSplit + productsSplit\n",
    "            \n",
    "            reducing_agent = '' \n",
    "            new_substrates = []\n",
    "            new_products = []\n",
    "            for sub in productsSplit:\n",
    "                if sub.strip() not in ['H(+)', 'H2O', 'AH2', '2 H(+)', '2 H2O','3 H(+)', '3 H2O', '4 H(+)', '4 H2O', '6 H2O', 'oxidized [NADPH--hemoprotein reductase]', \n",
    "                           'oxidized [2Fe-2S]-[ferredoxin]', 'oxidized [adrenodoxin]', '2 oxidized [NADPH--hemoprotein reductase]', '6 oxidized [NADPH--hemoprotein reductase]', \n",
    "                           '2 oxidized [2Fe-2S]-[ferredoxin]', '2 oxidized [adrenodoxin]', '6 oxidized [2Fe-2S]-[ferredoxin]', '6 oxidized [adrenodoxin]',\n",
    "                           'A', 'NAD(+)', 'NADP(+)', 'NADPH', 'NADH',  '2 NADP(+)', '2 NADPH', '2 NADH', 'CO2', '2 CO2', '3 CO2',  '3 oxidized [NADPH--hemoprotein reductase]', \n",
    "                           '3 oxidized [2Fe-2S]-[ferredoxin]', '3 oxidized [adrenodoxin]', '4 oxidized [NADPH--hemoprotein reductase]', \n",
    "                           '4 oxidized [2Fe-2S]-[ferredoxin]', '4 oxidized [adrenodoxin]', 'oxidized [NADH--hemoprotein reductase]', '2 oxidized [flavodoxin]',  'oxidized 2[4Fe-4S]-[ferredoxin]']:\n",
    "                    new_products.append(sub.strip())\n",
    "            \n",
    "            for sub in substratesSplit:\n",
    "                if 'reduced [' in sub:\n",
    "                    reducing_agent = sub.strip()[0:9] + sub.strip()[9:-1] + sub.strip()[-1:]\n",
    "                elif '2 reduced ferredoxin [iron-sulfur] cluster' in sub:\n",
    "                    reducing_agent =  '2 reduced ferredoxin [iron-sulfur] cluster'\n",
    "                elif 'reduced 2[4Fe-4S]-[ferredoxin]' in sub:\n",
    "                    reducing_agent =  'reduced 2[4Fe-4S]-[ferredoxin]'\n",
    "                elif sub in ['NADPH', 'NADP(+)', 'NAD(+)', 'NADH', '2 NADPH', '3 NADPH']:\n",
    "                    reducing_agent= sub.strip()\n",
    "                elif sub not in ['O2', 'H(+)', 'AH2', 'H2O', 'H2O2', 'A', '2 O2', '2 H(+)', '2 AH2', '2 H2O', '2 H2O2', \n",
    "                                 '2 A', '3 O2', '3 H(+)', '3 AH2', '3 H2O', '3 H2O2', '3 A', '4 H(+)', '5 H(+)', '6 H(+)', '4 O2']:\n",
    "                    new_substrates.append(sub.strip())\n",
    "                    \n",
    "            crossRef = comments[j]['reaction'].get('reactionCrossReferences', [])\n",
    "            \n",
    "            rheaID = ''\n",
    "            chebis = []\n",
    "            participant_chebis = {}\n",
    "            for ref in crossRef:\n",
    "                if ref['database'] == 'Rhea':\n",
    "                    rheaID = ref['id']\n",
    "                    break\n",
    "            for ref in crossRef:\n",
    "                if ref['database'] == 'ChEBI':\n",
    "                    chebis.append(ref['id'])\n",
    "\n",
    "                \n",
    "\n",
    "            # create a dict that maps the participants of all reactions to their CHEBI IDs\n",
    "            \n",
    "            data.append({'id': id, 'reaction': reaction, 'rheaID': rheaID,  \n",
    "                         'reducing_agent': reducing_agent, 'substrates': new_substrates, \n",
    "                         'products': new_products,'participants': participants, 'chebis': chebis})\n",
    "            reaction_found = True\n",
    "\n",
    "\n",
    "    # before adding this 2929 records in dataframe, after adding this 3781\n",
    "    if not reaction_found:\n",
    "        data.append({'id': id, 'reaction': None, 'rheaID': None, 'reducing_agent': None, 'substrates': None, \n",
    "                         'products': None,'participants': None, 'chebis': None})\n",
    "\n",
    "df = pd.DataFrame(data)\n",
    "\n",
    "df.to_csv('reactionsfromjson.csv', index=False)\n",
    "df.to_excel('reactionFromJSONexcel.xlsx', index=False)"
   ]
  }
 ],
 "metadata": {
  "kernelspec": {
   "display_name": ".env",
   "language": "python",
   "name": "python3"
  },
  "language_info": {
   "codemirror_mode": {
    "name": "ipython",
    "version": 3
   },
   "file_extension": ".py",
   "mimetype": "text/x-python",
   "name": "python",
   "nbconvert_exporter": "python",
   "pygments_lexer": "ipython3",
   "version": "3.10.9"
  },
  "orig_nbformat": 4,
  "vscode": {
   "interpreter": {
    "hash": "d723a7780c61de9fc3c4a961bbdaf62e00ac76df6f5f1ce0acb9d45878c1823e"
   }
  }
 },
 "nbformat": 4,
 "nbformat_minor": 2
}
